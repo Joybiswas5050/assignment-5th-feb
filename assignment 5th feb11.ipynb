{
 "cells": [
  {
   "cell_type": "code",
   "execution_count": 3,
   "id": "925981b9-4917-42fb-a10c-da572c47b79d",
   "metadata": {},
   "outputs": [
    {
     "name": "stdout",
     "output_type": "stream",
     "text": [
      "The car has started.\n",
      "The car is now traveling at 30 mph.\n",
      "The car is now traveling at 50 mph.\n",
      "The car has stopped.\n",
      "The car has started.\n",
      "The car is now traveling at 50 mph.\n",
      "The car has stopped.\n"
     ]
    }
   ],
   "source": [
    "class Car:\n",
    "    def __init__(self, make, model, year, color):\n",
    "        self.make = make\n",
    "        self.model = model\n",
    "        self.year = year\n",
    "        self.color = color\n",
    "        self.speed = 0\n",
    "\n",
    "    def start(self):\n",
    "        print(\"The car has started.\")\n",
    "\n",
    "    def accelerate(self, speed):\n",
    "        self.speed += speed\n",
    "        print(f\"The car is now traveling at {self.speed} mph.\")\n",
    "\n",
    "    def stop(self):\n",
    "        self.speed = 0\n",
    "        print(\"The car has stopped.\")\n",
    "\n",
    "# Create two car objects\n",
    "car1 = Car(\"Toyota\", \"Camry\", 2020, \"white\")\n",
    "car2 = Car(\"Ford\", \"Mustang\", 2019, \"red\")\n",
    "\n",
    "# Call methods on car objects\n",
    "car1.start()\n",
    "car1.accelerate(30)\n",
    "car1.accelerate(20)\n",
    "car1.stop()\n",
    "\n",
    "car2.start()\n",
    "car2.accelerate(50)\n",
    "car2.stop()\n"
   ]
  },
  {
   "cell_type": "code",
   "execution_count": 4,
   "id": "4d4bb18f-6b00-474b-86b2-8cdb7fdcaca8",
   "metadata": {},
   "outputs": [],
   "source": [
    "###question no 2"
   ]
  },
  {
   "cell_type": "code",
   "execution_count": null,
   "id": "bafd3c44-51ea-4852-a438-5fafa31ef2a1",
   "metadata": {},
   "outputs": [],
   "source": [
    "The four pillars of object-oriented programming (OOP) are:\n",
    "\n",
    "Encapsulation\n",
    "Abstraction\n",
    "Inheritance\n",
    "Polymorphism"
   ]
  },
  {
   "cell_type": "code",
   "execution_count": 5,
   "id": "3c77e22c-b4aa-4f47-8a53-b153c8e87ae0",
   "metadata": {},
   "outputs": [],
   "source": [
    "###question no 3"
   ]
  },
  {
   "cell_type": "code",
   "execution_count": null,
   "id": "67f5842d-600d-494f-a2af-cb65f24f8df4",
   "metadata": {},
   "outputs": [],
   "source": [
    "The init() function is used in Python classes to initialize the attributes of an object when it is created. It is called a constructor method, and it is executed automatically when an instance of the class is created.\n",
    "\n",
    "class Person:\n",
    "    def __init__(self, name, age):\n",
    "        self.name = name\n",
    "        self.age = age\n",
    "    \n",
    "    def print_details(self):\n",
    "        print(f\"Name: {self.name}, Age: {self.age}\")\n"
   ]
  },
  {
   "cell_type": "code",
   "execution_count": 6,
   "id": "6c9c2644-0074-49ed-a732-5b6eb64530e2",
   "metadata": {},
   "outputs": [],
   "source": [
    "###question no 4"
   ]
  },
  {
   "cell_type": "code",
   "execution_count": null,
   "id": "27ce325f-6241-429d-8b4f-59bebd1ede01",
   "metadata": {},
   "outputs": [],
   "source": [
    "In object-oriented programming, the \"self\" keyword is used to refer to the instance of the class that the method or property belongs to. It is a reference to the current object or instance of the class. By using \"self\", you can access the instance variables and methods of the current object, and you can also create new instance variables or call other methods on the same object. \"self\" helps to distinguish between instance variables and local variables within a method, and it allows for more flexible and dynamic coding.\n",
    "\n",
    "\n",
    "\n"
   ]
  },
  {
   "cell_type": "code",
   "execution_count": 7,
   "id": "d3e40ae4-a093-4d10-8804-12d2b73aeb78",
   "metadata": {},
   "outputs": [],
   "source": [
    "###question no 5 "
   ]
  },
  {
   "cell_type": "code",
   "execution_count": null,
   "id": "47c48221-5208-4a8e-b0a2-d30f2b04d4d6",
   "metadata": {},
   "outputs": [],
   "source": [
    "Inheritance is a mechanism in object-oriented programming where a new class can be derived from an existing class, inheriting all the properties and behaviors of the parent class while adding new functionalities or overriding existing ones.\n",
    "\n",
    "There are four types of inheritance:\n",
    "\n",
    "Single Inheritance: A derived class inherits properties and behavior from a single parent class.\n",
    "class Animal:\n",
    "    def __init__(self, name):\n",
    "        self.name = name\n",
    "\n",
    "    def eat(self):\n",
    "        print(f\"{self.name} is eating.\")\n",
    "\n",
    "class Dog(Animal):\n",
    "    def bark(self):\n",
    "        print(\"Woof!\")\n",
    "\n",
    "dog = Dog(\"Buddy\")\n",
    "dog.eat() # Output: Buddy is eating.\n",
    "dog.bark() # Output: Woof!\n"
   ]
  },
  {
   "cell_type": "code",
   "execution_count": null,
   "id": "00843ce3-20ad-45c1-b0ef-fdec41b9d5ab",
   "metadata": {},
   "outputs": [],
   "source": [
    "Multiple Inheritance: A derived class inherits properties and behavior from multiple parent classes.\n",
    "class Father:\n",
    "    def play_guitar(self):\n",
    "        print(\"Father plays guitar.\")\n",
    "\n",
    "class Mother:\n",
    "    def play_piano(self):\n",
    "        print(\"Mother plays piano.\")\n",
    "\n",
    "class Child(Father, Mother):\n",
    "    pass\n",
    "\n",
    "child = Child()\n",
    "child.play_guitar() # Output: Father plays guitar.\n",
    "child.play_piano() # Output: Mother plays piano.\n"
   ]
  },
  {
   "cell_type": "code",
   "execution_count": null,
   "id": "8a578552-a661-421d-82f4-9e541f58333e",
   "metadata": {},
   "outputs": [],
   "source": [
    "Multilevel Inheritance: A derived class inherits properties and behavior from a parent class, which itself is derived from another class.\n",
    "class Animal:\n",
    "    def __init__(self, name):\n",
    "        self.name = name\n",
    "\n",
    "    def eat(self):\n",
    "        print(f\"{self.name} is eating.\")\n",
    "\n",
    "class Dog(Animal):\n",
    "    def bark(self):\n",
    "        print(\"Woof!\")\n",
    "\n",
    "class Bulldog(Dog):\n",
    "    def guard(self):\n",
    "        print(\"I'm guarding the house.\")\n",
    "\n",
    "bulldog = Bulldog(\"Spike\")\n",
    "bulldog.eat() # Output: Spike is eating.\n",
    "bulldog.bark() # Output: Woof!\n",
    "bulldog.guard() # Output: I'm guarding the house.\n"
   ]
  },
  {
   "cell_type": "code",
   "execution_count": null,
   "id": "67f3d7e5-c9af-4bc5-93c2-cd8b51dcdabc",
   "metadata": {},
   "outputs": [],
   "source": [
    "Hierarchical Inheritance: Two or more\n",
    "derived classes inherit properties and behavior from a single parent class.\n"
   ]
  }
 ],
 "metadata": {
  "kernelspec": {
   "display_name": "Python 3 (ipykernel)",
   "language": "python",
   "name": "python3"
  },
  "language_info": {
   "codemirror_mode": {
    "name": "ipython",
    "version": 3
   },
   "file_extension": ".py",
   "mimetype": "text/x-python",
   "name": "python",
   "nbconvert_exporter": "python",
   "pygments_lexer": "ipython3",
   "version": "3.10.8"
  }
 },
 "nbformat": 4,
 "nbformat_minor": 5
}
